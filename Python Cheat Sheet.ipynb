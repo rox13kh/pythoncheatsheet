{
 "cells": [
  {
   "cell_type": "markdown",
   "metadata": {},
   "source": [
    "# Python Basics\n",
    "This is a cheat sheet <3 "
   ]
  },
  {
   "cell_type": "markdown",
   "metadata": {},
   "source": [
    "## Pre req + Setup "
   ]
  },
  {
   "cell_type": "markdown",
   "metadata": {},
   "source": [
    "Pycharm Community Edition"
   ]
  },
  {
   "cell_type": "markdown",
   "metadata": {},
   "source": [
    "https://www.jetbrains.com/pycharm/download/#section=mac"
   ]
  },
  {
   "cell_type": "markdown",
   "metadata": {},
   "source": [
    "Python 3"
   ]
  },
  {
   "cell_type": "markdown",
   "metadata": {},
   "source": [
    "https://python.org/"
   ]
  },
  {
   "cell_type": "markdown",
   "metadata": {},
   "source": [
    "## Variables "
   ]
  },
  {
   "cell_type": "markdown",
   "metadata": {},
   "source": [
    "for numbers "
   ]
  },
  {
   "cell_type": "code",
   "execution_count": 16,
   "metadata": {},
   "outputs": [],
   "source": [
    "endgameOdds = 14000605 "
   ]
  },
  {
   "cell_type": "markdown",
   "metadata": {},
   "source": [
    "for strings"
   ]
  },
  {
   "cell_type": "code",
   "execution_count": 17,
   "metadata": {},
   "outputs": [],
   "source": [
    "hobby = 'trolling kids'"
   ]
  },
  {
   "cell_type": "markdown",
   "metadata": {},
   "source": [
    "## Printing"
   ]
  },
  {
   "cell_type": "code",
   "execution_count": 19,
   "metadata": {},
   "outputs": [
    {
     "name": "stdout",
     "output_type": "stream",
     "text": [
      "what are the odds of the Avengers winning?\n",
      "14000605\n",
      "actually, the odds of the Avengers winning is 1 / 14000605\n"
     ]
    }
   ],
   "source": [
    "print('what are the odds of the Avengers winning?')\n",
    "print(endgameOdds)\n",
    "\n",
    "print('actually, the odds of the Avengers winning is 1 /', endgameOdds)"
   ]
  },
  {
   "cell_type": "markdown",
   "metadata": {},
   "source": [
    "## Inputs "
   ]
  },
  {
   "cell_type": "markdown",
   "metadata": {},
   "source": [
    "One way "
   ]
  },
  {
   "cell_type": "code",
   "execution_count": 10,
   "metadata": {},
   "outputs": [
    {
     "name": "stdout",
     "output_type": "stream",
     "text": [
      "what are the odds of the Avengers winning?500\n",
      "500\n"
     ]
    }
   ],
   "source": [
    "endgameOdds = input('what are the odds of the Avengers winning?')\n",
    "print(endgameOdds)"
   ]
  },
  {
   "cell_type": "markdown",
   "metadata": {},
   "source": [
    "OR"
   ]
  },
  {
   "cell_type": "code",
   "execution_count": null,
   "metadata": {},
   "outputs": [],
   "source": [
    "print('what are the odds of the Avengers winning?')\n",
    "endgameOdds = input()\n",
    "print(endgameOdds)"
   ]
  },
  {
   "cell_type": "markdown",
   "metadata": {},
   "source": [
    "## Some weird shit \n",
    "Try this"
   ]
  },
  {
   "cell_type": "code",
   "execution_count": 20,
   "metadata": {},
   "outputs": [
    {
     "name": "stdout",
     "output_type": "stream",
     "text": [
      "what are the odds of the Avengers winning?500\n"
     ]
    },
    {
     "ename": "TypeError",
     "evalue": "unsupported operand type(s) for /: 'int' and 'str'",
     "output_type": "error",
     "traceback": [
      "\u001b[0;31m---------------------------------------------------------------------------\u001b[0m",
      "\u001b[0;31mTypeError\u001b[0m                                 Traceback (most recent call last)",
      "\u001b[0;32m<ipython-input-20-a1360d2a7cb9>\u001b[0m in \u001b[0;36m<module>\u001b[0;34m\u001b[0m\n\u001b[1;32m      1\u001b[0m \u001b[0mendgameOdds\u001b[0m \u001b[0;34m=\u001b[0m \u001b[0minput\u001b[0m\u001b[0;34m(\u001b[0m\u001b[0;34m'what are the odds of the Avengers winning?'\u001b[0m\u001b[0;34m)\u001b[0m\u001b[0;34m\u001b[0m\u001b[0;34m\u001b[0m\u001b[0m\n\u001b[0;32m----> 2\u001b[0;31m \u001b[0mprint\u001b[0m\u001b[0;34m(\u001b[0m\u001b[0;36m1\u001b[0m\u001b[0;34m/\u001b[0m\u001b[0mendgameOdds\u001b[0m\u001b[0;34m)\u001b[0m\u001b[0;34m\u001b[0m\u001b[0;34m\u001b[0m\u001b[0m\n\u001b[0m",
      "\u001b[0;31mTypeError\u001b[0m: unsupported operand type(s) for /: 'int' and 'str'"
     ]
    }
   ],
   "source": [
    "endgameOdds = input('what are the odds of the Avengers winning?')\n",
    "print(1/endgameOdds)"
   ]
  },
  {
   "cell_type": "markdown",
   "metadata": {},
   "source": [
    "did you a 'int' and 'str' error ? "
   ]
  },
  {
   "cell_type": "code",
   "execution_count": 21,
   "metadata": {},
   "outputs": [
    {
     "name": "stdout",
     "output_type": "stream",
     "text": [
      "what are the odds of the Avengers winning?500\n",
      "0.002\n"
     ]
    }
   ],
   "source": [
    "#cool \n",
    "#input by default takes everything as a string \n",
    "#you need to cast it to an integer \n",
    "#try and run this \n",
    "\n",
    "endgameOdds = int(input('what are the odds of the Avengers winning?'))\n",
    "print(1/endgameOdds)\n",
    "\n"
   ]
  },
  {
   "cell_type": "markdown",
   "metadata": {},
   "source": [
    "better? cool "
   ]
  },
  {
   "cell_type": "code",
   "execution_count": null,
   "metadata": {},
   "outputs": [],
   "source": [
    "#this is a comment in Python btw\n",
    "#this doesn't affect your program \n",
    "#use this to structure your program before you code/ run it \n",
    "\n",
    "#it's good for pseudo coding "
   ]
  },
  {
   "cell_type": "markdown",
   "metadata": {},
   "source": [
    "## Which Avenger are you? "
   ]
  },
  {
   "cell_type": "code",
   "execution_count": 22,
   "metadata": {},
   "outputs": [],
   "source": [
    "#the goal of this game is to know which Avenger you would be\n",
    "#Say the choices are \n",
    "\n",
    "#Iron Man\n",
    "\n",
    "#Captain America\n",
    "\n",
    "#Fat Thor "
   ]
  },
  {
   "cell_type": "markdown",
   "metadata": {},
   "source": [
    "let's randomize this shit "
   ]
  },
  {
   "cell_type": "code",
   "execution_count": 23,
   "metadata": {},
   "outputs": [
    {
     "ename": "NameError",
     "evalue": "name 'random' is not defined",
     "output_type": "error",
     "traceback": [
      "\u001b[0;31m---------------------------------------------------------------------------\u001b[0m",
      "\u001b[0;31mNameError\u001b[0m                                 Traceback (most recent call last)",
      "\u001b[0;32m<ipython-input-23-05b82eb1dcc2>\u001b[0m in \u001b[0;36m<module>\u001b[0;34m\u001b[0m\n\u001b[1;32m      2\u001b[0m \u001b[0;31m#Say the choices are\u001b[0m\u001b[0;34m\u001b[0m\u001b[0;34m\u001b[0m\u001b[0;34m\u001b[0m\u001b[0m\n\u001b[1;32m      3\u001b[0m \u001b[0;34m\u001b[0m\u001b[0m\n\u001b[0;32m----> 4\u001b[0;31m \u001b[0mchoice\u001b[0m \u001b[0;34m=\u001b[0m \u001b[0mrandom\u001b[0m\u001b[0;34m.\u001b[0m\u001b[0mrandint\u001b[0m\u001b[0;34m(\u001b[0m\u001b[0;36m1\u001b[0m\u001b[0;34m,\u001b[0m\u001b[0;36m3\u001b[0m\u001b[0;34m)\u001b[0m\u001b[0;34m\u001b[0m\u001b[0;34m\u001b[0m\u001b[0m\n\u001b[0m\u001b[1;32m      5\u001b[0m \u001b[0;34m\u001b[0m\u001b[0m\n\u001b[1;32m      6\u001b[0m \u001b[0;31m#if one - Iron Man\u001b[0m\u001b[0;34m\u001b[0m\u001b[0;34m\u001b[0m\u001b[0;34m\u001b[0m\u001b[0m\n",
      "\u001b[0;31mNameError\u001b[0m: name 'random' is not defined"
     ]
    }
   ],
   "source": [
    "#the goal of this game is to know which Avenger you would be\n",
    "#Say the choices are \n",
    "\n",
    "choice = random.randint(1,3)\n",
    "\n",
    "#if one - Iron Man\n",
    "\n",
    "#if two - Captain America\n",
    "\n",
    "#if three - Fat Thor "
   ]
  },
  {
   "cell_type": "markdown",
   "metadata": {},
   "source": [
    "random doesn't exist ... "
   ]
  },
  {
   "cell_type": "markdown",
   "metadata": {},
   "source": [
    "mmmm"
   ]
  },
  {
   "cell_type": "markdown",
   "metadata": {},
   "source": [
    "## Libraries"
   ]
  },
  {
   "cell_type": "code",
   "execution_count": 24,
   "metadata": {},
   "outputs": [],
   "source": [
    "#default python doesn't support randomization \n",
    "#so let's use a module/ library called random by \n",
    "import random "
   ]
  },
  {
   "cell_type": "code",
   "execution_count": 25,
   "metadata": {},
   "outputs": [],
   "source": [
    "#the goal of this game is to know which Avenger you would be\n",
    "#Say the choices are \n",
    "\n",
    "#random library\n",
    "import random\n",
    "\n",
    "choice = random.randint(1,3)\n",
    "\n",
    "#if one - Iron Man\n",
    "\n",
    "#if two - Captain America\n",
    "\n",
    "#if three - Fat Thor "
   ]
  },
  {
   "cell_type": "markdown",
   "metadata": {},
   "source": [
    "this code above should now work. "
   ]
  },
  {
   "cell_type": "markdown",
   "metadata": {},
   "source": [
    "## How do I get Iron Man ? "
   ]
  },
  {
   "cell_type": "code",
   "execution_count": 28,
   "metadata": {},
   "outputs": [
    {
     "name": "stdout",
     "output_type": "stream",
     "text": [
      "Iron Man\n"
     ]
    }
   ],
   "source": [
    "#you have the three choices \n",
    "#let's say that if you get number 1, you're Iron Man \n",
    "\n",
    "#the goal of this game is to know which Avenger you would be\n",
    "#Say the choices are \n",
    "\n",
    "choice = random.randint(1,3)\n",
    "\n",
    "#if one - Iron Man\n",
    "if choice == 1:\n",
    "    print('Iron Man')\n",
    "\n",
    "#if two - Captain America\n",
    "\n",
    "#if three - Fat Thor "
   ]
  },
  {
   "cell_type": "markdown",
   "metadata": {},
   "source": [
    "If you get Iron Man printed, it means that you've got 1, but if you didn't get Iron Man printed, the randomizer got either 2 OR 3. \n",
    "\n",
    "Run the program a couple of times and see if you are indeed Iron Man"
   ]
  },
  {
   "cell_type": "code",
   "execution_count": 29,
   "metadata": {},
   "outputs": [
    {
     "name": "stdout",
     "output_type": "stream",
     "text": [
      "Fat Thor\n"
     ]
    }
   ],
   "source": [
    "#the goal of this game is to know which Avenger you would be\n",
    "#Say the choices are \n",
    "\n",
    "choice = random.randint(1,3)\n",
    "\n",
    "#if one - Iron Man\n",
    "if choice == 1:\n",
    "    print('Iron Man')\n",
    "\n",
    "#if two - Captain America\n",
    "elif choice == 2:\n",
    "    print('Captain America')\n",
    "\n",
    "#if three - Fat Thor \n",
    "else:\n",
    "    print('Fat Thor')"
   ]
  },
  {
   "cell_type": "markdown",
   "metadata": {},
   "source": [
    "### Which Avenger are you ?"
   ]
  },
  {
   "cell_type": "markdown",
   "metadata": {},
   "source": [
    "..."
   ]
  },
  {
   "cell_type": "markdown",
   "metadata": {},
   "source": [
    "..."
   ]
  },
  {
   "cell_type": "markdown",
   "metadata": {},
   "source": [
    "## Being Picky "
   ]
  },
  {
   "cell_type": "markdown",
   "metadata": {},
   "source": [
    "Let's say that you don't like the fact that you got Fat Thor (even though he's cool but just a bit depressed)"
   ]
  },
  {
   "cell_type": "markdown",
   "metadata": {},
   "source": [
    "How can you tell the program to run the randomizer again so that I can get Iron Man?"
   ]
  },
  {
   "cell_type": "code",
   "execution_count": 32,
   "metadata": {},
   "outputs": [
    {
     "name": "stdout",
     "output_type": "stream",
     "text": [
      "Iron Man\n",
      "Do you wanna try our program again? Enter Y or NN\n",
      "Coolio, will try to run the program again\n"
     ]
    }
   ],
   "source": [
    "#the goal of this game is to know which Avenger you would be\n",
    "#Say the choices are \n",
    "\n",
    "choice = random.randint(1,3)\n",
    "\n",
    "#if one - Iron Man\n",
    "if choice == 1:\n",
    "    print('Iron Man')\n",
    "\n",
    "#if two - Captain America\n",
    "elif choice == 2:\n",
    "    print('Captain America')\n",
    "\n",
    "#if three - Fat Thor \n",
    "else:\n",
    "    print('Fat Thor')\n",
    "    \n",
    "#Ask the user if they like the answer or not\n",
    "likeornot = input('Do you wanna try our program again? Enter Y or N')\n",
    "\n",
    "if likeornot == 'Y':\n",
    "    print('Awesome! Thanks for playing with us!')\n",
    "elif likeornot == 'N':\n",
    "    print('Coolio, will try to run the program again')\n",
    "    \n",
    "    "
   ]
  },
  {
   "cell_type": "markdown",
   "metadata": {},
   "source": [
    "seems better, but the program doesn't actually run again... \n",
    "let's add something called a while loop"
   ]
  },
  {
   "cell_type": "code",
   "execution_count": 37,
   "metadata": {},
   "outputs": [
    {
     "ename": "IndentationError",
     "evalue": "unindent does not match any outer indentation level (<tokenize>, line 16)",
     "output_type": "error",
     "traceback": [
      "\u001b[0;36m  File \u001b[0;32m\"<tokenize>\"\u001b[0;36m, line \u001b[0;32m16\u001b[0m\n\u001b[0;31m    elif choice == 2:\u001b[0m\n\u001b[0m    ^\u001b[0m\n\u001b[0;31mIndentationError\u001b[0m\u001b[0;31m:\u001b[0m unindent does not match any outer indentation level\n"
     ]
    }
   ],
   "source": [
    "#the goal of this game is to know which Avenger you would be\n",
    "#Say the choices are \n",
    "\n",
    "choice = random.randint(1,3)\n",
    "\n",
    "#let's initialize likeornot to Y for now \n",
    "\n",
    "likeornot = 'Y'\n",
    "\n",
    "while likeornot != 'N':\n",
    "    #if one - Iron Man\n",
    "    if choice == 1:\n",
    "        print('Iron Man')\n",
    "\n",
    "    #if two - Captain America\n",
    "    elif choice == 2:\n",
    "        print('Captain America')\n",
    "\n",
    "    #if three - Fat Thor \n",
    "    else:\n",
    "        print('Fat Thor')\n",
    "\n",
    "    #Ask the user if they like the answer or not\n",
    "    likeornot = input('Do you wanna try our program again? Enter Y or N')\n",
    "\n",
    "    if likeornot == 'N':\n",
    "        print('Awesome! Thanks for playing with us!')\n",
    "    elif likeornot == 'Y':\n",
    "        print('Coolio, will try to run the program again')"
   ]
  },
  {
   "cell_type": "markdown",
   "metadata": {},
   "source": [
    "if you have the error \n",
    "'unindent does not match any outer indentation level'\n",
    "\n",
    "this is a very Python thing. It's sort of like Word bullets "
   ]
  },
  {
   "cell_type": "code",
   "execution_count": 38,
   "metadata": {},
   "outputs": [
    {
     "ename": "IndentationError",
     "evalue": "expected an indented block (<ipython-input-38-34750feaf192>, line 2)",
     "output_type": "error",
     "traceback": [
      "\u001b[0;36m  File \u001b[0;32m\"<ipython-input-38-34750feaf192>\"\u001b[0;36m, line \u001b[0;32m2\u001b[0m\n\u001b[0;31m    print('Iron Man')\u001b[0m\n\u001b[0m        ^\u001b[0m\n\u001b[0;31mIndentationError\u001b[0m\u001b[0;31m:\u001b[0m expected an indented block\n"
     ]
    }
   ],
   "source": [
    "if choice == 1:\n",
    "print('Iron Man')"
   ]
  },
  {
   "cell_type": "markdown",
   "metadata": {},
   "source": [
    "doesn't work "
   ]
  },
  {
   "cell_type": "code",
   "execution_count": 39,
   "metadata": {},
   "outputs": [
    {
     "name": "stdout",
     "output_type": "stream",
     "text": [
      "Iron Man\n"
     ]
    }
   ],
   "source": [
    "if choice == 1:\n",
    "    print('Iron Man')"
   ]
  },
  {
   "cell_type": "markdown",
   "metadata": {},
   "source": [
    "works"
   ]
  },
  {
   "cell_type": "code",
   "execution_count": null,
   "metadata": {},
   "outputs": [],
   "source": [
    "#this one works \n",
    "while likeornot != 'N':\n",
    "    if choice == 1:\n",
    "        print('Iron Man')\n",
    "\n",
    "        \n",
    "#this doesn't work \n",
    "while likeornot != 'N':\n",
    "if choice == 1:\n",
    "        print('Iron Man')\n",
    "        \n",
    "#this doesn't work \n",
    "while likeornot != 'N':\n",
    "if choice == 1:\n",
    "print('Iron Man')"
   ]
  }
 ],
 "metadata": {
  "kernelspec": {
   "display_name": "Python 3",
   "language": "python",
   "name": "python3"
  },
  "language_info": {
   "codemirror_mode": {
    "name": "ipython",
    "version": 3
   },
   "file_extension": ".py",
   "mimetype": "text/x-python",
   "name": "python",
   "nbconvert_exporter": "python",
   "pygments_lexer": "ipython3",
   "version": "3.7.3"
  }
 },
 "nbformat": 4,
 "nbformat_minor": 2
}
